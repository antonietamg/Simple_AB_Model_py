{
  "nbformat": 4,
  "nbformat_minor": 0,
  "metadata": {
    "colab": {
      "name": "Binomial Model.ipynb",
      "provenance": [],
      "collapsed_sections": [],
      "toc_visible": true,
      "authorship_tag": "ABX9TyPrdFZfbwM6gJ+RBQZ1VPvO",
      "include_colab_link": true
    },
    "kernelspec": {
      "name": "python3",
      "display_name": "Python 3"
    },
    "language_info": {
      "name": "python"
    }
  },
  "cells": [
    {
      "cell_type": "markdown",
      "metadata": {
        "id": "view-in-github",
        "colab_type": "text"
      },
      "source": [
        "<a href=\"https://colab.research.google.com/github/antonietamg/Simple_AB_Model_py/blob/main/Binomial_Model.ipynb\" target=\"_parent\"><img src=\"https://colab.research.google.com/assets/colab-badge.svg\" alt=\"Open In Colab\"/></a>"
      ]
    },
    {
      "cell_type": "code",
      "metadata": {
        "id": "9nfg1fTAWirz"
      },
      "source": [
        "#### Simple AB Model\n",
        "#### By: Antonieta Martínez-Guerrero & Markus F. Müller (2020)\n",
        "#### Based in the Binomial Model: J. Feder, Fractals, Plenum Press, New York, NY, USA, 1988\n",
        "\n",
        "## PARAMETERS\n",
        "\n",
        "xnum = 13  # Lenght of the resulting series = 2**xnum\n",
        "a_value = 0.1   # Choose a value between 0.1 and 0.9\n",
        "b_value = 0.8   # Choose another value between 0.1 and 0.9, but consider this rule: a_value + b_value <= 1\n",
        "name_file = \"AB0108.txt\" # Write the name of the output file"
      ],
      "execution_count": 18,
      "outputs": []
    },
    {
      "cell_type": "code",
      "metadata": {
        "id": "qiLtNyHDX2lx"
      },
      "source": [
        "## START \n",
        "\n",
        "a = a_value\n",
        "b = b_value"
      ],
      "execution_count": 3,
      "outputs": []
    },
    {
      "cell_type": "code",
      "metadata": {
        "colab": {
          "base_uri": "https://localhost:8080/"
        },
        "id": "IX-LpxQBXGWx",
        "outputId": "bfaa5650-1352-4d9a-fc74-c50fe7b2d7ed"
      },
      "source": [
        "import numpy as np\n",
        "x = np.repeat(1, 2**xnum)"
      ],
      "execution_count": 4,
      "outputs": [
        {
          "output_type": "execute_result",
          "data": {
            "text/plain": [
              "array([1, 1, 1, ..., 1, 1, 1])"
            ]
          },
          "metadata": {},
          "execution_count": 4
        }
      ]
    },
    {
      "cell_type": "code",
      "metadata": {
        "id": "oR7cllZTZkq6",
        "colab": {
          "base_uri": "https://localhost:8080/"
        },
        "outputId": "bcb708e2-1ad0-4538-96a1-3b2ccabd5b03"
      },
      "source": [
        "for ji in range (1, xnum+1):\n",
        "\n",
        "  pow = 2**ji\n",
        "  r_pow = len(x)/pow\n",
        "  import math\n",
        "  m = int(math.ceil(len(x)/r_pow))\n",
        "  chunks = np.array_split(x,m)\n",
        "  odd = chunks[1::2]\n",
        "  r_odd = list (map(lambda number: number * a, odd))\n",
        "  r_odd = np.array(r_odd)\n",
        "  even = chunks[0::2]\n",
        "  r_even = list (map(lambda number: number * b, even))\n",
        "  r_even = np.array(r_even)\n",
        "  new_df = np.concatenate((r_odd, r_even), axis=None)\n",
        "  x = new_df"
      ],
      "execution_count": 5,
      "outputs": [
        {
          "output_type": "stream",
          "name": "stdout",
          "text": [
            "[1.00000000e-13 8.00000000e-13 8.00000000e-13 ... 6.87194767e-03\n",
            " 6.87194767e-03 5.49755814e-02]\n"
          ]
        }
      ]
    },
    {
      "cell_type": "code",
      "metadata": {
        "id": "xbox9cvQteiu",
        "colab": {
          "base_uri": "https://localhost:8080/",
          "height": 605
        },
        "outputId": "e968f8f4-0f2d-4a8a-f970-b933cc3cd78a"
      },
      "source": [
        "## PLOT\n",
        "\n",
        "%matplotlib inline\n",
        "import matplotlib.pyplot as plt\n",
        "plt.style.use('seaborn-whitegrid')\n",
        "import numpy as np\n",
        "\n",
        "fig = plt.figure(figsize=(14, 10))\n",
        "ax = plt.axes()\n",
        "\n",
        "plt.plot(x)"
      ],
      "execution_count": 20,
      "outputs": [
        {
          "output_type": "execute_result",
          "data": {
            "text/plain": [
              "[<matplotlib.lines.Line2D at 0x7f2a4d48a310>]"
            ]
          },
          "metadata": {},
          "execution_count": 20
        },
        {
          "output_type": "display_data",
          "data": {
            "image/png": "[encoded data removed]",
            "text/plain": [
              "<Figure size 1008x720 with 1 Axes>"
            ]
          },
          "metadata": {}
        }
      ]
    },
    {
      "cell_type": "code",
      "metadata": {
        "id": "OpOw1Ygvrba7"
      },
      "source": [
        "## SAVE SERIES AS .TXT\n",
        "\n",
        "from numpy import asarray\n",
        "from numpy import savetxt\n",
        "data = x\n",
        "savetxt(name_file, data, delimiter=',')\n",
        "\n",
        "import gc\n",
        "gc.collect()\n",
        "\n",
        "## END"
      ],
      "execution_count": 19,
      "outputs": []
    }
  ]
}